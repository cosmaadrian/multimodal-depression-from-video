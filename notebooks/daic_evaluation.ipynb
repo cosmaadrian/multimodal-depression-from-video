{
 "cells": [
  {
   "cell_type": "code",
   "execution_count": 1,
   "metadata": {},
   "outputs": [],
   "source": [
    "import pandas as pd\n",
    "import numpy as np\n",
    "import glob\n",
    "import matplotlib.pyplot as plt\n",
    "from collections import defaultdict\n",
    "import seaborn as sns\n",
    "from pprint import pprint\n",
    "import json\n",
    "from scipy.stats import mode\n",
    "from sklearn.metrics import f1_score, precision_score, recall_score, accuracy_score\n",
    "\n",
    "%matplotlib inline"
   ]
  },
  {
   "cell_type": "code",
   "execution_count": 2,
   "metadata": {},
   "outputs": [],
   "source": [
    "result_files = glob.glob('../results/baseline-daic-woz-modalities+class-weights/*.csv')\n",
    "\n",
    "dfs = []\n",
    "for file in result_files:\n",
    "    df = pd.read_csv(file)\n",
    "    df['filename'] = file.split('/')[-1]\n",
    "\n",
    "    dfs.append(df)\n",
    "\n",
    "dfs = pd.concat(dfs)\n"
   ]
  },
  {
   "cell_type": "code",
   "execution_count": 3,
   "metadata": {},
   "outputs": [
    {
     "data": {
      "text/plain": [
       "array(['last', 'mean', 'mode', 'threshold', 'mode_threshold',\n",
       "       'last_presence', 'mean_presence', 'mode_presence',\n",
       "       'threshold_presence', 'mode_threshold_presence'], dtype=object)"
      ]
     },
     "execution_count": 3,
     "metadata": {},
     "output_type": "execute_result"
    }
   ],
   "source": [
    "dfs[\"prediction_kind\"].unique()"
   ]
  },
  {
   "cell_type": "code",
   "execution_count": 19,
   "metadata": {},
   "outputs": [],
   "source": [
    "evals = {}\n",
    "for modality_id in ['audio', 'video', 'audiovisual']:\n",
    "    for eval_id in ['last', 'mean', 'mode', 'threshold', 'mode_threshold']:\n",
    "        evals[f'{modality_id}:{eval_id}'] = dfs[dfs['prediction_kind'] == eval_id]\n",
    "        evals[f'{modality_id}:{eval_id}'] = evals[f'{modality_id}:{eval_id}'][evals[f'{modality_id}:{eval_id}']['filename'].str.contains(modality_id+'-')]\n",
    "        evals[f'{modality_id}:{eval_id}'] = evals[f'{modality_id}:{eval_id}'][evals[f'{modality_id}:{eval_id}']['dataset_kind'] == 'test']\n",
    "        evals[f'{modality_id}:{eval_id}'].sort_values(by=['seconds_per_window', 'presence_threshold', 'run_id'], inplace=True)"
   ]
  },
  {
   "cell_type": "code",
   "execution_count": 30,
   "metadata": {},
   "outputs": [],
   "source": [
    "evals_audio = evals['audio:mode_threshold']\n",
    "evals_video = evals['video:mode_threshold']\n",
    "evals_audiovisual = evals['audiovisual:mode_threshold']\n"
   ]
  },
  {
   "cell_type": "code",
   "execution_count": 45,
   "metadata": {},
   "outputs": [
    {
     "data": {
      "text/html": [
       "<div>\n",
       "<style scoped>\n",
       "    .dataframe tbody tr th:only-of-type {\n",
       "        vertical-align: middle;\n",
       "    }\n",
       "\n",
       "    .dataframe tbody tr th {\n",
       "        vertical-align: top;\n",
       "    }\n",
       "\n",
       "    .dataframe thead tr th {\n",
       "        text-align: left;\n",
       "    }\n",
       "</style>\n",
       "<table border=\"1\" class=\"dataframe\">\n",
       "  <thead>\n",
       "    <tr>\n",
       "      <th></th>\n",
       "      <th>seconds_per_window</th>\n",
       "      <th>presence_threshold</th>\n",
       "      <th>model_args.num_layers</th>\n",
       "      <th>model_args.self_attn_num_heads</th>\n",
       "      <th>model_args.self_attn_dim_head</th>\n",
       "      <th>run_id</th>\n",
       "      <th colspan=\"2\" halign=\"left\">f1</th>\n",
       "      <th colspan=\"2\" halign=\"left\">f1_weighted</th>\n",
       "      <th colspan=\"2\" halign=\"left\">precision</th>\n",
       "      <th colspan=\"2\" halign=\"left\">recall</th>\n",
       "      <th colspan=\"2\" halign=\"left\">accuracy</th>\n",
       "    </tr>\n",
       "    <tr>\n",
       "      <th></th>\n",
       "      <th></th>\n",
       "      <th></th>\n",
       "      <th></th>\n",
       "      <th></th>\n",
       "      <th></th>\n",
       "      <th>count</th>\n",
       "      <th>mean</th>\n",
       "      <th>std</th>\n",
       "      <th>mean</th>\n",
       "      <th>std</th>\n",
       "      <th>mean</th>\n",
       "      <th>std</th>\n",
       "      <th>mean</th>\n",
       "      <th>std</th>\n",
       "      <th>mean</th>\n",
       "      <th>std</th>\n",
       "    </tr>\n",
       "  </thead>\n",
       "  <tbody>\n",
       "    <tr>\n",
       "      <th>0</th>\n",
       "      <td>7</td>\n",
       "      <td>0.25</td>\n",
       "      <td>8</td>\n",
       "      <td>8</td>\n",
       "      <td>32</td>\n",
       "      <td>5</td>\n",
       "      <td>0.428723</td>\n",
       "      <td>0.073746</td>\n",
       "      <td>0.61126</td>\n",
       "      <td>0.08547</td>\n",
       "      <td>0.388914</td>\n",
       "      <td>0.080215</td>\n",
       "      <td>0.5</td>\n",
       "      <td>0.133631</td>\n",
       "      <td>0.604255</td>\n",
       "      <td>0.091018</td>\n",
       "    </tr>\n",
       "  </tbody>\n",
       "</table>\n",
       "</div>"
      ],
      "text/plain": [
       "  seconds_per_window presence_threshold model_args.num_layers  \\\n",
       "                                                                \n",
       "0                  7               0.25                     8   \n",
       "\n",
       "  model_args.self_attn_num_heads model_args.self_attn_dim_head run_id  \\\n",
       "                                                                count   \n",
       "0                              8                            32      5   \n",
       "\n",
       "         f1           f1_weighted          precision           recall  \\\n",
       "       mean       std        mean      std      mean       std   mean   \n",
       "0  0.428723  0.073746     0.61126  0.08547  0.388914  0.080215    0.5   \n",
       "\n",
       "             accuracy            \n",
       "        std      mean       std  \n",
       "0  0.133631  0.604255  0.091018  "
      ]
     },
     "execution_count": 45,
     "metadata": {},
     "output_type": "execute_result"
    }
   ],
   "source": [
    "evals_video.groupby(['seconds_per_window', 'presence_threshold', 'model_args.num_layers', 'model_args.self_attn_num_heads', 'model_args.self_attn_dim_head']).agg(\n",
    "    {'run_id': 'count', 'f1': ['mean', 'std'], 'f1_weighted': ['mean', 'std'], 'precision': ['mean', 'std'], 'recall': ['mean', 'std'], 'accuracy': ['mean', 'std']}).reset_index()"
   ]
  }
 ],
 "metadata": {
  "kernelspec": {
   "display_name": "exodus",
   "language": "python",
   "name": "python3"
  },
  "language_info": {
   "codemirror_mode": {
    "name": "ipython",
    "version": 3
   },
   "file_extension": ".py",
   "mimetype": "text/x-python",
   "name": "python",
   "nbconvert_exporter": "python",
   "pygments_lexer": "ipython3",
   "version": "3.9.13"
  },
  "orig_nbformat": 4
 },
 "nbformat": 4,
 "nbformat_minor": 2
}
